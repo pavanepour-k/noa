{
  "cells": [
    {
      "cell_type": "code",
      "execution_count": null,
      "metadata": {
        "colab": {
          "base_uri": "https://localhost:8080/"
        },
        "collapsed": true,
        "id": "RAoVRSLK4s_C",
        "outputId": "cb5be052-0034-44d8-c659-70f1270bfc9f"
      },
      "outputs": [],
      "source": [
        "# 1. Install required libraries\n",
        "!pip install -U datasets fsspec gcsfs\n",
        "!pip install -U transformers peft accelerate bitsandbytes\n"
      ]
    },
    {
      "cell_type": "code",
      "execution_count": null,
      "metadata": {
        "id": "ozWgeWun4urp"
      },
      "outputs": [],
      "source": [
        "# 2. Import libraries\n",
        "import json\n",
        "import torch\n",
        "from datasets import Dataset\n",
        "from transformers import (\n",
        "    AutoTokenizer,\n",
        "    AutoModelForCausalLM,\n",
        "    TrainingArguments,\n",
        "    Trainer,\n",
        "    BitsAndBytesConfig\n",
        ")\n",
        "from peft import LoraConfig, get_peft_model\n",
        "from google.colab import drive\n"
      ]
    },
    {
      "cell_type": "code",
      "execution_count": null,
      "metadata": {
        "id": "_yW1khej4wQ5"
      },
      "outputs": [],
      "source": [
        "# 3. Mount Google Drive\n",
        "drive.mount('/content/drive')\n"
      ]
    },
    {
      "cell_type": "code",
      "execution_count": null,
      "metadata": {
        "id": "GDvZvEvt4xrp"
      },
      "outputs": [],
      "source": [
        "# 4. Define function to load JSONL files\n",
        "def load_jsonl(path: str) -> list[dict]:\n",
        "    with open(path, \"r\", encoding=\"utf-8\") as f:\n",
        "        return [json.loads(line.strip()) for line in f if line.strip()]\n"
      ]
    },
    {
      "cell_type": "code",
      "execution_count": null,
      "metadata": {
        "id": "6ymQuWS34yt5"
      },
      "outputs": [],
      "source": [
        "# 5. Copy file (Drive → Colab local)\n",
        "!cp \"/content/drive/MyDrive/Noa/first_emotion_dataset_train.jsonl\" /content/train.jsonl\n",
        "!cp \"/content/drive/MyDrive/Noa/first_emotion_dataset_valid.jsonl\" /content/valid.jsonl\n"
      ]
    },
    {
      "cell_type": "code",
      "execution_count": null,
      "metadata": {
        "id": "qQGhe_dY43mx"
      },
      "outputs": [],
      "source": [
        "# 6. Load and transform dataset\n",
        "train_data = load_jsonl(\"/content/train.jsonl\")\n",
        "valid_data = load_jsonl(\"/content/valid.jsonl\")\n",
        "\n",
        "train_dataset = Dataset.from_list(train_data)\n",
        "valid_dataset = Dataset.from_list(valid_data)\n"
      ]
    },
    {
      "cell_type": "code",
      "execution_count": null,
      "metadata": {
        "id": "LwEnfo5b9NxC"
      },
      "outputs": [],
      "source": [
        "# 7. Configure 4-bit quantization\n",
        "bnb_config = BitsAndBytesConfig(\n",
        "    load_in_4bit=True,\n",
        "    bnb_4bit_compute_dtype=torch.float16,\n",
        "    bnb_4bit_use_double_quant=True,\n",
        "    bnb_4bit_quant_type=\"nf4\"\n",
        ")\n"
      ]
    },
    {
      "cell_type": "code",
      "execution_count": null,
      "metadata": {
        "collapsed": true,
        "id": "Syk73Ggg5DTp"
      },
      "outputs": [],
      "source": [
        "# 8. Load tokenizer and model (quantized + auto device mapping)\n",
        "tokenizer = AutoTokenizer.from_pretrained(\"microsoft/phi-2\")\n",
        "model = AutoModelForCausalLM.from_pretrained(\n",
        "    \"microsoft/phi-2\",\n",
        "    device_map=\"auto\",\n",
        "    quantization_config=bnb_config,\n",
        "    torch_dtype=torch.float16\n",
        ")"
      ]
    },
    {
      "cell_type": "code",
      "execution_count": null,
      "metadata": {
        "id": "jk6B129K5Fzx"
      },
      "outputs": [],
      "source": [
        "# 9. Set up and apply LoRA\n",
        "lora_config = LoraConfig(\n",
        "    r=8,\n",
        "    lora_alpha=16,\n",
        "    target_modules=[\"q_proj\", \"v_proj\"],  # Restructure later\n",
        "    lora_dropout=0.05,\n",
        "    bias=\"none\",\n",
        "    task_type=\"CAUSAL_LM\"\n",
        ")\n",
        "model = get_peft_model(model, lora_config)"
      ]
    },
    {
      "cell_type": "code",
      "execution_count": null,
      "metadata": {
        "id": "Y9ydpBsH5JNp"
      },
      "outputs": [],
      "source": [
        "# 10. Define tokenization function\n",
        "def tokenize(example: dict) -> dict:\n",
        "    prompt = f\"{example['instruction']}\\n{example['input']}\"\n",
        "    tokenized = tokenizer(prompt, truncation=True, max_length=512)\n",
        "    tokenized[\"labels\"] = tokenizer(\n",
        "        example[\"output\"], truncation=True, max_length=512\n",
        "    )[\"input_ids\"]\n",
        "    return tokenized"
      ]
    },
    {
      "cell_type": "code",
      "execution_count": null,
      "metadata": {
        "id": "1BdJRk9N5LqR"
      },
      "outputs": [],
      "source": [
        "# 11. Apply tokenization\n",
        "tokenized_train = train_dataset.map(tokenize, batched=False)\n",
        "tokenized_valid = valid_dataset.map(tokenize, batched=False)"
      ]
    },
    {
      "cell_type": "code",
      "execution_count": null,
      "metadata": {
        "id": "n9WJBkjS5OmJ"
      },
      "outputs": [],
      "source": [
        "# 12. Set training arguments (optimized for Colab environment)\n",
        "training_args = TrainingArguments(\n",
        "    output_dir=\"./phi2_emotion_lora\",\n",
        "    per_device_train_batch_size=2,\n",
        "    per_device_eval_batch_size=2,\n",
        "    evaluation_strategy=\"steps\",\n",
        "    logging_steps=50,\n",
        "    save_steps=200,\n",
        "    eval_steps=200,\n",
        "    num_train_epochs=2,\n",
        "    learning_rate=2e-4,\n",
        "    save_total_limit=2,\n",
        "    fp16=True,\n",
        "    report_to=\"none\"\n",
        ")"
      ]
    },
    {
      "cell_type": "code",
      "execution_count": null,
      "metadata": {
        "id": "RbXsr4du5TKx"
      },
      "outputs": [],
      "source": [
        "# 13. Define Trainer and start training\n",
        "trainer = Trainer(\n",
        "    model=model,\n",
        "    args=training_args,\n",
        "    train_dataset=tokenized_train,\n",
        "    eval_dataset=tokenized_valid\n",
        ")\n",
        "\n",
        "trainer.train()"
      ]
    },
    {
      "cell_type": "code",
      "execution_count": null,
      "metadata": {
        "id": "zo25D5b85W1B"
      },
      "outputs": [],
      "source": [
        "# 14. Save the trained model\n",
        "model.save_pretrained(\"./phi2_emotion_lora\")\n",
        "tokenizer.save_pretrained(\"./phi2_emotion_lora\")"
      ]
    }
  ],
  "metadata": {
    "accelerator": "GPU",
    "colab": {
      "gpuType": "T4",
      "provenance": []
    },
    "kernelspec": {
      "display_name": "Python 3",
      "name": "python3"
    },
    "language_info": {
      "name": "python"
    }
  },
  "nbformat": 4,
  "nbformat_minor": 0
}
